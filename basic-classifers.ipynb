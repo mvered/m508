{
 "cells": [
  {
   "cell_type": "markdown",
   "metadata": {},
   "source": [
    "# M508 Final Project\n",
    "Michelle Vered & Jack Lawniczak<br>\n",
    "April 2020"
   ]
  },
  {
   "cell_type": "markdown",
   "metadata": {},
   "source": [
    "## Setup"
   ]
  },
  {
   "cell_type": "code",
   "execution_count": 1,
   "metadata": {},
   "outputs": [],
   "source": [
    "# import needed packages\n",
    "import numpy as np\n",
    "import os\n",
    "import cv2\n",
    "import matplotlib.pyplot as plt\n",
    "import seaborn as sns\n",
    "from sklearn.decomposition import PCA\n",
    "import random\n",
    "from matplotlib.offsetbox import OffsetImage, AnnotationBbox\n",
    "from sklearn import svm"
   ]
  },
  {
   "cell_type": "code",
   "execution_count": 2,
   "metadata": {},
   "outputs": [],
   "source": [
    "# global variables\n",
    "classes = ['PNEUMONIA','NORMAL'] # given by the data\n",
    "imageSize = 150  # based on typical image size in data, but a few images need to be resized"
   ]
  },
  {
   "cell_type": "markdown",
   "metadata": {},
   "source": [
    "## Prepare Data"
   ]
  },
  {
   "cell_type": "code",
   "execution_count": 3,
   "metadata": {},
   "outputs": [],
   "source": [
    "def getData(dataDirectory):\n",
    "    '''find all image files, resize to standard size, \n",
    "    and save b/w pixel intensity in array '''\n",
    "    \n",
    "    # initialize empty lists to store data, images, classnames\n",
    "    dataList = []\n",
    "    imageList = []\n",
    "    targetClassList = []\n",
    "    fileList = []\n",
    "\n",
    "    # loop through each class\n",
    "    for eachClass in classes:\n",
    "        \n",
    "        # set file path and class number for each class\n",
    "        path = os.path.join(dataDirectory,eachClass)\n",
    "        classNumber = classes.index(eachClass)\n",
    "        \n",
    "        # loop through each image file in class\n",
    "        for imageName in os.listdir(path):\n",
    "            \n",
    "            # save file extension\n",
    "            extension = os.path.splitext(imageName)[1]\n",
    "            \n",
    "            try:\n",
    "                if extension == '.jpeg':\n",
    "                    # import image as grayscale set of pixel intensities\n",
    "                    image = cv2.imread(os.path.join(path, imageName), cv2.IMREAD_GRAYSCALE)\n",
    "                    \n",
    "                    # resize all images to standard size\n",
    "                    resizedImage = cv2.resize(image, (imageSize, imageSize))\n",
    "                    \n",
    "                    # save resized image to list\n",
    "                    imageList.append(resizedImage)\n",
    "        \n",
    "                    # create a array of image data and save in list\n",
    "                    reshapedData = np.reshape(resizedImage, (22500,))\n",
    "                    dataList.append(reshapedData)\n",
    "                    \n",
    "                    # save class number to list\n",
    "                    targetClassList.append(classNumber)\n",
    "                    \n",
    "                    # save file location to list\n",
    "                    fileList.append(os.path.join(path,imageName))\n",
    "                    \n",
    "            # raise an exception if there's an issue importing/processing a picture\n",
    "            except:\n",
    "                print(\"Oops! Error importing & resizing image \", imageName)\n",
    "    \n",
    "    # combine all info together\n",
    "    result = {}\n",
    "    result['images'] = np.array(imageList)\n",
    "    result['data'] = np.array(dataList)\n",
    "    result['targetClasses'] = np.array(targetClassList)\n",
    "    result['fileLocations'] = np.array(fileList)\n",
    "    \n",
    "    return result\n"
   ]
  },
  {
   "cell_type": "code",
   "execution_count": 4,
   "metadata": {},
   "outputs": [],
   "source": [
    "# save file paths for each set of images\n",
    "trainN = 'data/train/NORMAL'\n",
    "trainP = 'data/train/PNEUMONIA'\n",
    "testN = 'data/test/NORMAL'\n",
    "testP = 'data/test/PNEUMONIA'\n",
    "valN = 'data/val/NORMAL'\n",
    "valP = 'data/val/PNEUMONIA'"
   ]
  },
  {
   "cell_type": "code",
   "execution_count": 5,
   "metadata": {},
   "outputs": [],
   "source": [
    "# load in data\n",
    "train = getData('data/train/')\n",
    "test = getData('data/test')\n",
    "validation = getData('data/val')"
   ]
  },
  {
   "cell_type": "markdown",
   "metadata": {},
   "source": [
    "## Summary Statistics"
   ]
  },
  {
   "cell_type": "code",
   "execution_count": 6,
   "metadata": {},
   "outputs": [
    {
     "name": "stdout",
     "output_type": "stream",
     "text": [
      "Total training normal lung images:  1342\n",
      "Total training pneumonia lung images:  3876\n",
      "Total test normal lung images:  234\n",
      "Total test pneumonia lung images:  390\n",
      "Total validation normal lung images:  9\n",
      "Total validation pneumonia lung images:  9\n"
     ]
    }
   ],
   "source": [
    "# count of images\n",
    "numTrainN = len(os.listdir(trainN))\n",
    "numTrainP = len(os.listdir(trainP))\n",
    "numTestN = len(os.listdir(testN))\n",
    "numTestP = len(os.listdir(testP))\n",
    "numValN = len(os.listdir(valN))\n",
    "numValP = len(os.listdir(valP))\n",
    "\n",
    "print('Total training normal lung images: ', numTrainN)\n",
    "print('Total training pneumonia lung images: ', numTrainP)\n",
    "print('Total test normal lung images: ', numTestN)\n",
    "print('Total test pneumonia lung images: ', numTestP)\n",
    "print('Total validation normal lung images: ', numValN)\n",
    "print('Total validation pneumonia lung images: ', numValP)"
   ]
  },
  {
   "cell_type": "code",
   "execution_count": 7,
   "metadata": {},
   "outputs": [
    {
     "data": {
      "text/plain": [
       "Text(0.5, 1.0, 'PNEUMONIA')"
      ]
     },
     "execution_count": 7,
     "metadata": {},
     "output_type": "execute_result"
    },
    {
     "data": {
      "image/png": "[encoded data removed]",
      "text/plain": [
       "<Figure size 360x360 with 1 Axes>"
      ]
     },
     "metadata": {
      "needs_background": "light"
     },
     "output_type": "display_data"
    },
    {
     "data": {
      "image/png": "[encoded data removed]",
      "text/plain": [
       "<Figure size 360x360 with 1 Axes>"
      ]
     },
     "metadata": {
      "needs_background": "light"
     },
     "output_type": "display_data"
    }
   ],
   "source": [
    "# preview images\n",
    "plt.figure(figsize = (5,5))\n",
    "plt.imshow(train['images'][-1], cmap='gray')\n",
    "plt.title(classes[train['targetClasses'][-1]])\n",
    "\n",
    "plt.figure(figsize = (5,5))\n",
    "plt.imshow(train['images'][0], cmap='gray')\n",
    "plt.title(classes[train['targetClasses'][0]])"
   ]
  },
  {
   "cell_type": "markdown",
   "metadata": {},
   "source": [
    "## Fit PCA"
   ]
  },
  {
   "cell_type": "markdown",
   "metadata": {},
   "source": [
    "### First two principal components"
   ]
  },
  {
   "cell_type": "code",
   "execution_count": 8,
   "metadata": {},
   "outputs": [],
   "source": [
    "# fit PCA with only 2 components & show as scatter plot\n",
    "projection_xy = PCA(2).fit_transform(train['data'])"
   ]
  },
  {
   "cell_type": "code",
   "execution_count": 9,
   "metadata": {},
   "outputs": [],
   "source": [
    "# plot first two principal components\n",
    "\n",
    "# plot in new window\n",
    "%matplotlib qt\n",
    "\n",
    "# set data for plot\n",
    "x = projection_xy[:,0]\n",
    "y = projection_xy[:,1]\n",
    "i = train['images']\n",
    "t = train['targetClasses']\n",
    "\n",
    "# set \n",
    "fig, ax = plt.subplots(figsize=(100,100))\n",
    "ax.scatter(x[train['targetClasses']==0],y[train['targetClasses']==0],c='red')\n",
    "ax.scatter(x[train['targetClasses']==1],y[train['targetClasses']==1],c='blue')\n",
    "\n",
    "# add title\n",
    "fig.suptitle('First & Second Principal Components\\nRed = Pneumonia, Blue = Normal', \n",
    "             fontsize='16',\n",
    "             fontweight='heavy')\n",
    "\n",
    "# subset of images to actually show on the plot\n",
    "subset = random.sample(range(0,len(t)),100)\n",
    "\n",
    "# define helper function for getting images\n",
    "def getImage(imageData):\n",
    "    return OffsetImage(imageData, cmap='gray', zoom=0.2)\n",
    "\n",
    "# show images on the plot for that subset\n",
    "count = 0\n",
    "for x0, y0, i0, t0 in zip(x, y, i, t):\n",
    "    if (t0 == 1 and (count in subset)):\n",
    "        ab2 = AnnotationBbox(getImage(i0),\n",
    "                             (x0, y0),\n",
    "                             frameon = True,\n",
    "                             bboxprops = dict(edgecolor='blue'))\n",
    "        ax.add_artist(ab2)\n",
    "    \n",
    "    elif (t0 == 0 and (count in subset)):\n",
    "        ab1 = AnnotationBbox(getImage(i0),\n",
    "                            (x0, y0),\n",
    "                            frameon = True,\n",
    "                            bboxprops = dict(edgecolor='red')\n",
    "                           )\n",
    "        ax.add_artist(ab1)\n",
    "    count +=1"
   ]
  },
  {
   "cell_type": "markdown",
   "metadata": {},
   "source": [
    "### More principal components"
   ]
  },
  {
   "cell_type": "code",
   "execution_count": 10,
   "metadata": {},
   "outputs": [],
   "source": [
    "pca10 = PCA(10).fit_transform(train['data'])"
   ]
  },
  {
   "cell_type": "code",
   "execution_count": 11,
   "metadata": {},
   "outputs": [],
   "source": [
    "pca10Test = PCA(10).fit_transform(test['data'])"
   ]
  },
  {
   "cell_type": "code",
   "execution_count": 12,
   "metadata": {},
   "outputs": [],
   "source": [
    "# plot principal components 3&4\n",
    "\n",
    "# plot in new window\n",
    "%matplotlib qt\n",
    "\n",
    "# set data for plot\n",
    "x = pca10[:,2]\n",
    "y = pca10[:,3]\n",
    "i = train['images']\n",
    "t = train['targetClasses']\n",
    "\n",
    "# set \n",
    "fig, ax = plt.subplots(figsize=(100,100))\n",
    "ax.scatter(x[train['targetClasses']==0],y[train['targetClasses']==0],c='red')\n",
    "ax.scatter(x[train['targetClasses']==1],y[train['targetClasses']==1],c='blue')\n",
    "\n",
    "# add title\n",
    "fig.suptitle('Third & Fourth Principal Components\\nRed = Pneumonia, Blue = Normal', \n",
    "             fontsize='16',\n",
    "             fontweight='heavy')\n",
    "\n",
    "# subset of images to actually show on the plot\n",
    "subset = random.sample(range(0,len(t)),100)\n",
    "\n",
    "# define helper function for getting images\n",
    "def getImage(imageData):\n",
    "    return OffsetImage(imageData, cmap='gray', zoom=0.2)\n",
    "\n",
    "# show images on the plot for that subset\n",
    "count = 0\n",
    "for x0, y0, i0, t0 in zip(x, y, i, t):\n",
    "    if (t0 == 1 and (count in subset)):\n",
    "        ab2 = AnnotationBbox(getImage(i0),\n",
    "                             (x0, y0),\n",
    "                             frameon = True,\n",
    "                             bboxprops = dict(edgecolor='blue'))\n",
    "        ax.add_artist(ab2)\n",
    "    \n",
    "    elif (t0 == 0 and (count in subset)):\n",
    "        ab1 = AnnotationBbox(getImage(i0),\n",
    "                            (x0, y0),\n",
    "                            frameon = True,\n",
    "                            bboxprops = dict(edgecolor='red')\n",
    "                           )\n",
    "        ax.add_artist(ab1)\n",
    "    count +=1"
   ]
  },
  {
   "cell_type": "code",
   "execution_count": 13,
   "metadata": {},
   "outputs": [],
   "source": [
    "# plot principal components 5&6\n",
    "\n",
    "# plot in new window\n",
    "%matplotlib qt\n",
    "\n",
    "# set data for plot\n",
    "x = pca10[:,4]\n",
    "y = pca10[:,5]\n",
    "i = train['images']\n",
    "t = train['targetClasses']\n",
    "\n",
    "# set \n",
    "fig, ax = plt.subplots(figsize=(100,100))\n",
    "ax.scatter(x[train['targetClasses']==0],y[train['targetClasses']==0],c='red')\n",
    "ax.scatter(x[train['targetClasses']==1],y[train['targetClasses']==1],c='blue')\n",
    "\n",
    "# add title\n",
    "fig.suptitle('Fifth & Sixth Principal Components\\nRed = Pneumonia, Blue = Normal', \n",
    "             fontsize='16',\n",
    "             fontweight='heavy')\n",
    "\n",
    "# subset of images to actually show on the plot\n",
    "subset = random.sample(range(0,len(t)),100)\n",
    "\n",
    "# define helper function for getting images\n",
    "def getImage(imageData):\n",
    "    return OffsetImage(imageData, cmap='gray', zoom=0.2)\n",
    "\n",
    "# show images on the plot for that subset\n",
    "count = 0\n",
    "for x0, y0, i0, t0 in zip(x, y, i, t):\n",
    "    if (t0 == 1 and (count in subset)):\n",
    "        ab2 = AnnotationBbox(getImage(i0),\n",
    "                             (x0, y0),\n",
    "                             frameon = True,\n",
    "                             bboxprops = dict(edgecolor='blue'))\n",
    "        ax.add_artist(ab2)\n",
    "    \n",
    "    elif (t0 == 0 and (count in subset)):\n",
    "        ab1 = AnnotationBbox(getImage(i0),\n",
    "                            (x0, y0),\n",
    "                            frameon = True,\n",
    "                            bboxprops = dict(edgecolor='red')\n",
    "                           )\n",
    "        ax.add_artist(ab1)\n",
    "    count +=1"
   ]
  },
  {
   "cell_type": "markdown",
   "metadata": {},
   "source": [
    "## SVM"
   ]
  },
  {
   "cell_type": "code",
   "execution_count": 14,
   "metadata": {},
   "outputs": [],
   "source": [
    "# SVM regularization parameter\n",
    "C = 1.0 "
   ]
  },
  {
   "cell_type": "code",
   "execution_count": 15,
   "metadata": {},
   "outputs": [],
   "source": [
    "X = pca10[:,[2,3]]\n",
    "y = train['targetClasses']"
   ]
  },
  {
   "cell_type": "code",
   "execution_count": 16,
   "metadata": {},
   "outputs": [],
   "source": [
    "# fit SVM model\n",
    "linearSVM = svm.SVC(kernel='linear', C=C)"
   ]
  },
  {
   "cell_type": "code",
   "execution_count": 17,
   "metadata": {},
   "outputs": [],
   "source": [
    "# classifier\n",
    "clf = linearSVM.fit(pca10[:,[2,3]],train['targetClasses'])"
   ]
  },
  {
   "cell_type": "code",
   "execution_count": 18,
   "metadata": {},
   "outputs": [],
   "source": [
    "# test data\n",
    "XTest = pca10Test[:,[2,3]]\n",
    "yTest = test['targetClasses']"
   ]
  },
  {
   "cell_type": "code",
   "execution_count": 19,
   "metadata": {},
   "outputs": [],
   "source": [
    "# predictions on test data\n",
    "clfTest = clf.predict(XTest)"
   ]
  },
  {
   "cell_type": "code",
   "execution_count": 21,
   "metadata": {},
   "outputs": [],
   "source": [
    "# accuracy\n",
    "\n",
    "correct = 0\n",
    "incorrect = 0\n",
    "for i in range(0, len(clfTest)):\n",
    "    if clfTest[i] == test['targetClasses'][i]:\n",
    "        correct += 1\n",
    "    else:\n",
    "        incorrect += 1"
   ]
  },
  {
   "cell_type": "code",
   "execution_count": 25,
   "metadata": {},
   "outputs": [
    {
     "name": "stdout",
     "output_type": "stream",
     "text": [
      "Number of correct predictions on test set is:  479\n"
     ]
    }
   ],
   "source": [
    "print('Number of correct predictions on test set is: ', str(correct))"
   ]
  },
  {
   "cell_type": "code",
   "execution_count": 26,
   "metadata": {},
   "outputs": [
    {
     "name": "stdout",
     "output_type": "stream",
     "text": [
      "Number of incorrect predictions on test set is:  145\n"
     ]
    }
   ],
   "source": [
    "print('Number of incorrect predictions on test set is: ', str(incorrect))"
   ]
  },
  {
   "cell_type": "code",
   "execution_count": 31,
   "metadata": {},
   "outputs": [
    {
     "name": "stdout",
     "output_type": "stream",
     "text": [
      "Accuracy is:  76.8 %\n"
     ]
    }
   ],
   "source": [
    "accuracy = correct/(correct + incorrect) * 100\n",
    "print('Accuracy is: ',str(round(accuracy,1)), '%')"
   ]
  }
 ],
 "metadata": {
  "kernelspec": {
   "display_name": "Python 3",
   "language": "python",
   "name": "python3"
  },
  "language_info": {
   "codemirror_mode": {
    "name": "ipython",
    "version": 3
   },
   "file_extension": ".py",
   "mimetype": "text/x-python",
   "name": "python",
   "nbconvert_exporter": "python",
   "pygments_lexer": "ipython3",
   "version": "3.6.8"
  }
 },
 "nbformat": 4,
 "nbformat_minor": 2
}
